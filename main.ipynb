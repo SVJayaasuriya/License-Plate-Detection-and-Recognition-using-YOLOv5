{
 "cells": [
  {
   "cell_type": "code",
   "execution_count": null,
   "metadata": {},
   "outputs": [],
   "source": [
    "!pip install -r requirements.txt"
   ]
  },
  {
   "cell_type": "markdown",
   "metadata": {},
   "source": [
    "Install tesseract OCR from https://github.com/tesseract-ocr/tesseract"
   ]
  },
  {
   "cell_type": "code",
   "execution_count": null,
   "metadata": {},
   "outputs": [],
   "source": [
    "!pip install pytesseract"
   ]
  },
  {
   "cell_type": "code",
   "execution_count": null,
   "metadata": {},
   "outputs": [],
   "source": [
    "!python detect.py --weights best.pt --source test --conf 0.25 --save-txt --save-conf"
   ]
  },
  {
   "cell_type": "markdown",
   "metadata": {},
   "source": [
    "Before executing the below cell\n",
    "Replace images_path with the YOLO output folder created while executing the previous cell"
   ]
  },
  {
   "cell_type": "code",
   "execution_count": null,
   "metadata": {},
   "outputs": [],
   "source": [
    "import os\n",
    "import cv2\n",
    "import pytesseract\n",
    "import re\n",
    "\n",
    "pytesseract.pytesseract.tesseract_cmd = r'C:\\Program Files\\Tesseract-OCR\\tesseract.exe'\n",
    "images_path = 'runs/detect/exp/'  # Replace with your YOLO output folder\n",
    "labels_path = os.path.join(images_path, 'labels')\n",
    "\n",
    "ocr_config = '--psm 7'\n",
    "\n",
    "for label_file in os.listdir(labels_path):\n",
    "    if label_file.endswith('.txt'):\n",
    "        image_file = label_file.replace('.txt', '.jpg') \n",
    "        image_path = os.path.join(images_path, image_file)\n",
    "\n",
    "        img = cv2.imread(image_path)\n",
    "        if img is None:\n",
    "            print(f\"Error: Image {image_file} not found.\")\n",
    "            continue\n",
    "\n",
    "        with open(os.path.join(labels_path, label_file), 'r') as f:\n",
    "            for line in f:\n",
    "                _, x, y, w, h, _ = map(float, line.split())\n",
    "\n",
    "                h_img, w_img, _ = img.shape\n",
    "                x1 = int((x - w / 2) * w_img)\n",
    "                y1 = int((y - h / 2) * h_img)\n",
    "                x2 = int((x + w / 2) * w_img)\n",
    "                y2 = int((y + h / 2) * h_img)\n",
    "\n",
    "                crop = img[y1:y2, x1:x2]\n",
    "\n",
    "                text = pytesseract.image_to_string(crop, config=ocr_config).strip()\n",
    "\n",
    "                cleaned_text = re.sub(r'[^A-Za-z0-9]', '', text)\n",
    "\n",
    "                print(f\"Detected text for {image_file}: {cleaned_text}\")"
   ]
  }
 ],
 "metadata": {
  "kernelspec": {
   "display_name": "Python 3 (ipykernel)",
   "language": "python",
   "name": "python3"
  },
  "language_info": {
   "codemirror_mode": {
    "name": "ipython",
    "version": 3
   },
   "file_extension": ".py",
   "mimetype": "text/x-python",
   "name": "python",
   "nbconvert_exporter": "python",
   "pygments_lexer": "ipython3",
   "version": "3.11.4"
  }
 },
 "nbformat": 4,
 "nbformat_minor": 2
}
